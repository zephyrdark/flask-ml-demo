{
 "cells": [
  {
   "cell_type": "markdown",
   "metadata": {},
   "source": [
    "# Time Series - Moving Average Example (Electricity Consumption)"
   ]
  },
  {
   "cell_type": "code",
   "execution_count": null,
   "metadata": {},
   "outputs": [],
   "source": []
  },
  {
   "cell_type": "code",
   "execution_count": 51,
   "metadata": {},
   "outputs": [],
   "source": [
    "import pandas as pd\n",
    "import numpy as np\n",
    "import matplotlib.pyplot as plt"
   ]
  },
  {
   "cell_type": "code",
   "execution_count": 52,
   "metadata": {
    "scrolled": true
   },
   "outputs": [
    {
     "data": {
      "text/html": [
       "<div>\n",
       "<style scoped>\n",
       "    .dataframe tbody tr th:only-of-type {\n",
       "        vertical-align: middle;\n",
       "    }\n",
       "\n",
       "    .dataframe tbody tr th {\n",
       "        vertical-align: top;\n",
       "    }\n",
       "\n",
       "    .dataframe thead th {\n",
       "        text-align: right;\n",
       "    }\n",
       "</style>\n",
       "<table border=\"1\" class=\"dataframe\">\n",
       "  <thead>\n",
       "    <tr style=\"text-align: right;\">\n",
       "      <th></th>\n",
       "      <th>Electricity_Consumed</th>\n",
       "    </tr>\n",
       "    <tr>\n",
       "      <th>Month</th>\n",
       "      <th></th>\n",
       "    </tr>\n",
       "  </thead>\n",
       "  <tbody>\n",
       "    <tr>\n",
       "      <th>2005-01-01</th>\n",
       "      <td>448.1</td>\n",
       "    </tr>\n",
       "    <tr>\n",
       "      <th>2005-02-01</th>\n",
       "      <td>437.4</td>\n",
       "    </tr>\n",
       "    <tr>\n",
       "      <th>2005-03-01</th>\n",
       "      <td>480.0</td>\n",
       "    </tr>\n",
       "    <tr>\n",
       "      <th>2005-04-01</th>\n",
       "      <td>533.9</td>\n",
       "    </tr>\n",
       "    <tr>\n",
       "      <th>2005-05-01</th>\n",
       "      <td>535.3</td>\n",
       "    </tr>\n",
       "  </tbody>\n",
       "</table>\n",
       "</div>"
      ],
      "text/plain": [
       "            Electricity_Consumed\n",
       "Month                           \n",
       "2005-01-01                 448.1\n",
       "2005-02-01                 437.4\n",
       "2005-03-01                 480.0\n",
       "2005-04-01                 533.9\n",
       "2005-05-01                 535.3"
      ]
     },
     "execution_count": 52,
     "metadata": {},
     "output_type": "execute_result"
    }
   ],
   "source": [
    "# initialize a Dataframe 'df' with some dummy values\n",
    "# Dummy values are in the  csv file, the string in the read_csv() represents where our csv file is located\n",
    "# you can change the string path in the read_csv() to import the csv file from different folder\n",
    "\n",
    "df = pd.read_csv('Electricity_Consumption.csv', index_col=0,\n",
    "     parse_dates=True, infer_datetime_format=True)\n",
    "\n",
    "df.head()"
   ]
  },
  {
   "cell_type": "code",
   "execution_count": 53,
   "metadata": {},
   "outputs": [
    {
     "name": "stdout",
     "output_type": "stream",
     "text": [
      "Electricity_Consumed    float64\n",
      "dtype: object\n"
     ]
    }
   ],
   "source": [
    "print(df.dtypes)"
   ]
  },
  {
   "cell_type": "code",
   "execution_count": 54,
   "metadata": {},
   "outputs": [
    {
     "data": {
      "text/plain": [
       "Timestamp('2005-01-01 00:00:00')"
      ]
     },
     "execution_count": 54,
     "metadata": {},
     "output_type": "execute_result"
    }
   ],
   "source": [
    "# get first row\n",
    "first_date = df.index[0]\n",
    "first_date"
   ]
  },
  {
   "cell_type": "code",
   "execution_count": 55,
   "metadata": {
    "scrolled": true
   },
   "outputs": [
    {
     "data": {
      "text/plain": [
       "Month\n",
       "2005-01-01    448.1\n",
       "2005-02-01    437.4\n",
       "2005-03-01    480.0\n",
       "2005-04-01    533.9\n",
       "2005-05-01    535.3\n",
       "Name: Electricity_Consumed, dtype: float64"
      ]
     },
     "execution_count": 55,
     "metadata": {},
     "output_type": "execute_result"
    }
   ],
   "source": [
    "df.Electricity_Consumed.head()"
   ]
  },
  {
   "cell_type": "markdown",
   "metadata": {},
   "source": [
    "# Visualize"
   ]
  },
  {
   "cell_type": "code",
   "execution_count": 56,
   "metadata": {},
   "outputs": [
    {
     "data": {
      "text/plain": [
       "<AxesSubplot:xlabel='Month'>"
      ]
     },
     "execution_count": 56,
     "metadata": {},
     "output_type": "execute_result"
    },
    {
     "data": {
      "image/png": "[encoded data removed]",
      "text/plain": [
       "<Figure size 432x288 with 1 Axes>"
      ]
     },
     "metadata": {
      "needs_background": "light"
     },
     "output_type": "display_data"
    }
   ],
   "source": [
    "df.plot()"
   ]
  },
  {
   "cell_type": "markdown",
   "metadata": {},
   "source": [
    "# Average of Recent Period\n",
    "Perform some analysis of the data "
   ]
  },
  {
   "cell_type": "code",
   "execution_count": 57,
   "metadata": {},
   "outputs": [
    {
     "data": {
      "text/plain": [
       "Month\n",
       "2013-10-01    555.8\n",
       "2013-11-01    571.7\n",
       "2013-12-01    531.0\n",
       "Name: Electricity_Consumed, dtype: float64"
      ]
     },
     "execution_count": 57,
     "metadata": {},
     "output_type": "execute_result"
    }
   ],
   "source": [
    "RECENT_PERIOD = 3  # set the recent period\n",
    "df.Electricity_Consumed[-RECENT_PERIOD:]"
   ]
  },
  {
   "cell_type": "code",
   "execution_count": 58,
   "metadata": {},
   "outputs": [],
   "source": [
    "df_recent_period = df[-RECENT_PERIOD:] "
   ]
  },
  {
   "cell_type": "code",
   "execution_count": 59,
   "metadata": {
    "scrolled": true
   },
   "outputs": [
    {
     "data": {
      "text/html": [
       "<div>\n",
       "<style scoped>\n",
       "    .dataframe tbody tr th:only-of-type {\n",
       "        vertical-align: middle;\n",
       "    }\n",
       "\n",
       "    .dataframe tbody tr th {\n",
       "        vertical-align: top;\n",
       "    }\n",
       "\n",
       "    .dataframe thead th {\n",
       "        text-align: right;\n",
       "    }\n",
       "</style>\n",
       "<table border=\"1\" class=\"dataframe\">\n",
       "  <thead>\n",
       "    <tr style=\"text-align: right;\">\n",
       "      <th></th>\n",
       "      <th>Electricity_Consumed</th>\n",
       "    </tr>\n",
       "    <tr>\n",
       "      <th>Month</th>\n",
       "      <th></th>\n",
       "    </tr>\n",
       "  </thead>\n",
       "  <tbody>\n",
       "    <tr>\n",
       "      <th>2013-10-01</th>\n",
       "      <td>555.8</td>\n",
       "    </tr>\n",
       "    <tr>\n",
       "      <th>2013-11-01</th>\n",
       "      <td>571.7</td>\n",
       "    </tr>\n",
       "    <tr>\n",
       "      <th>2013-12-01</th>\n",
       "      <td>531.0</td>\n",
       "    </tr>\n",
       "  </tbody>\n",
       "</table>\n",
       "</div>"
      ],
      "text/plain": [
       "            Electricity_Consumed\n",
       "Month                           \n",
       "2013-10-01                 555.8\n",
       "2013-11-01                 571.7\n",
       "2013-12-01                 531.0"
      ]
     },
     "execution_count": 59,
     "metadata": {},
     "output_type": "execute_result"
    }
   ],
   "source": [
    "df_recent_period.head()"
   ]
  },
  {
   "cell_type": "code",
   "execution_count": 60,
   "metadata": {
    "scrolled": true
   },
   "outputs": [
    {
     "data": {
      "text/plain": [
       "552.8333333333334"
      ]
     },
     "execution_count": 60,
     "metadata": {},
     "output_type": "execute_result"
    }
   ],
   "source": [
    "# average value of recent period\n",
    "df_recent_period.Electricity_Consumed.mean()  "
   ]
  },
  {
   "cell_type": "code",
   "execution_count": 61,
   "metadata": {},
   "outputs": [
    {
     "data": {
      "text/plain": [
       "1658.5"
      ]
     },
     "execution_count": 61,
     "metadata": {},
     "output_type": "execute_result"
    }
   ],
   "source": [
    "# total value of recent period\n",
    "df_recent_period.Electricity_Consumed.sum()"
   ]
  },
  {
   "cell_type": "markdown",
   "metadata": {},
   "source": [
    "# Moving Average\n",
    "Moving Average (or rolling aveage) is used to analyze data points by creating a series of averages of different subsets of the full data set.  A moving average is commonly used with time series data to smooth out short-term fluctuations and highlight longer-term trends or cycles.  The estimate of the trend-cycle at time t is obtained by averaging values of the time series within k periods of t."
   ]
  },
  {
   "cell_type": "code",
   "execution_count": 62,
   "metadata": {
    "scrolled": true
   },
   "outputs": [
    {
     "name": "stdout",
     "output_type": "stream",
     "text": [
      "Month\n",
      "2005-01-01    448.1\n",
      "2005-02-01    437.4\n",
      "2005-03-01    480.0\n",
      "2005-04-01    533.9\n",
      "2005-05-01    535.3\n",
      "Name: Electricity_Consumed, dtype: float64\n",
      "--  rolling mean 3\n",
      "Month\n",
      "2005-01-01           NaN\n",
      "2005-02-01           NaN\n",
      "2005-03-01           NaN\n",
      "2005-04-01    455.166667\n",
      "2005-05-01    483.766667\n",
      "Name: Electricity_Consumed, dtype: float64\n",
      "--  rolling mean 12\n",
      "Month\n",
      "2005-01-01   NaN\n",
      "2005-02-01   NaN\n",
      "2005-03-01   NaN\n",
      "2005-04-01   NaN\n",
      "2005-05-01   NaN\n",
      "Name: Electricity_Consumed, dtype: float64\n"
     ]
    }
   ],
   "source": [
    "rolling_mean_3 = df.Electricity_Consumed.rolling(window=3).mean().shift(1)  \n",
    "# moving average of past 3 months, shift one row\n",
    "# Using the method rolling(window), we need to shfit 1 row [rolling(window=3).mean().shift(1)] \n",
    "#    to indicate the moving average as\n",
    "#    Yt = computed based on Y(t-1) + Y(t-2) + Y(t-3)\n",
    "rolling_mean_12 = df.Electricity_Consumed.rolling(window=12).mean().shift(1) # moving average of past 12 months, shift one row\n",
    "\n",
    "print(df.Electricity_Consumed.head())\n",
    "print(\"--  rolling mean 3\")\n",
    "print(rolling_mean_3.head())\n",
    "print(\"--  rolling mean 12\")\n",
    "print(rolling_mean_12.head())"
   ]
  },
  {
   "cell_type": "code",
   "execution_count": 63,
   "metadata": {},
   "outputs": [
    {
     "data": {
      "image/png": "[encoded data removed]",
      "text/plain": [
       "<Figure size 432x288 with 1 Axes>"
      ]
     },
     "metadata": {
      "needs_background": "light"
     },
     "output_type": "display_data"
    }
   ],
   "source": [
    "# plot the graphs with different moving average\n",
    "plt.plot(df.index, df.Electricity_Consumed, label='Electricity Consumed')\n",
    "plt.plot(df.index, rolling_mean_3, label='3 Months SMA', color='orange')\n",
    "plt.plot(df.index, rolling_mean_12, label='12 Months SMA', color='magenta')\n",
    "plt.legend(loc='upper left')\n",
    "plt.show()"
   ]
  },
  {
   "cell_type": "markdown",
   "metadata": {},
   "source": [
    "To know more about the concepts on Time Series: https://otexts.org/fpp2/intro.html\n",
    "\n",
    "        "
   ]
  },
  {
   "cell_type": "raw",
   "metadata": {},
   "source": [
    "Based on the graph, which model a better forecast?"
   ]
  },
  {
   "cell_type": "code",
   "execution_count": 64,
   "metadata": {},
   "outputs": [
    {
     "name": "stdout",
     "output_type": "stream",
     "text": [
      "3\n"
     ]
    }
   ],
   "source": [
    "print(\"3\")"
   ]
  },
  {
   "cell_type": "code",
   "execution_count": 70,
   "metadata": {},
   "outputs": [
    {
     "name": "stdout",
     "output_type": "stream",
     "text": [
      "522.0666666666667\n"
     ]
    }
   ],
   "source": [
    "print(rolling_mean_3[10])"
   ]
  },
  {
   "cell_type": "code",
   "execution_count": null,
   "metadata": {},
   "outputs": [],
   "source": [
    "rolling_mean_3.to_pickle(\"moving_average.pkl\")"
   ]
  },
  {
   "cell_type": "markdown",
   "metadata": {},
   "source": [
    "# Mean Squre Error"
   ]
  },
  {
   "cell_type": "code",
   "execution_count": 47,
   "metadata": {},
   "outputs": [],
   "source": [
    "from sklearn.metrics import mean_squared_error "
   ]
  },
  {
   "cell_type": "code",
   "execution_count": 48,
   "metadata": {},
   "outputs": [
    {
     "data": {
      "text/plain": [
       "1723.8247936507937"
      ]
     },
     "execution_count": 48,
     "metadata": {},
     "output_type": "execute_result"
    }
   ],
   "source": [
    "# ignore the first fews rows with no moving average data \n",
    "mean_squared_error(df.Electricity_Consumed[3:], rolling_mean_3[3:])"
   ]
  },
  {
   "cell_type": "code",
   "execution_count": 49,
   "metadata": {},
   "outputs": [
    {
     "data": {
      "text/plain": [
       "1578.3040516493056"
      ]
     },
     "execution_count": 49,
     "metadata": {},
     "output_type": "execute_result"
    }
   ],
   "source": [
    "mean_squared_error(df.Electricity_Consumed[12:], rolling_mean_12[12:])"
   ]
  },
  {
   "cell_type": "code",
   "execution_count": 50,
   "metadata": {},
   "outputs": [
    {
     "data": {
      "text/plain": [
       "0.21606"
      ]
     },
     "execution_count": 50,
     "metadata": {},
     "output_type": "execute_result"
    }
   ],
   "source": [
    "Y_true = [1,1,2,2,4]  # Y_true = Y (original values) \n",
    "  \n",
    "# calculated values \n",
    "Y_pred = [0.6,1.29,1.99,2.69,3.4]  # Y_pred = Y' \n",
    "  \n",
    "# Calculation of Mean Squared Error (MSE) \n",
    "mean_squared_error(Y_true,Y_pred) "
   ]
  },
  {
   "cell_type": "code",
   "execution_count": null,
   "metadata": {},
   "outputs": [],
   "source": []
  }
 ],
 "metadata": {
  "kernelspec": {
   "display_name": "Python 3.9.12 ('SA54')",
   "language": "python",
   "name": "python3"
  },
  "language_info": {
   "codemirror_mode": {
    "name": "ipython",
    "version": 3
   },
   "file_extension": ".py",
   "mimetype": "text/x-python",
   "name": "python",
   "nbconvert_exporter": "python",
   "pygments_lexer": "ipython3",
   "version": "3.10.6"
  },
  "vscode": {
   "interpreter": {
    "hash": "711d3e0dea3d862c331ab770962b14de0bcd7eadd12449e37018c50e2d26cb87"
   }
  }
 },
 "nbformat": 4,
 "nbformat_minor": 2
}
